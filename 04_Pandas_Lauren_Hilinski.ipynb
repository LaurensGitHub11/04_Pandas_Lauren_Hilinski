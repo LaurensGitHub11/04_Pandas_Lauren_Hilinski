{
 "cells": [
  {
   "cell_type": "markdown",
   "metadata": {},
   "source": [
    "**Observable Trends**\n",
    "* An overwhelming majority of players are male - about 84%\n",
    "* About 84% of purchases were made by males\n",
    "* 47% of puchases were made by players aged 20 to 24, which accounted for about 47% of total revenue\n",
    "* The most a single player spent was 18.96\n",
    "* The most popular item was purchased 12 times at 4.23 - this was also the most profitable item bringing in 50.76"
   ]
  },
  {
   "cell_type": "code",
   "execution_count": null,
   "metadata": {},
   "outputs": [],
   "source": [
    "import pandas as pd\n",
    "import numpy as np"
   ]
  },
  {
   "cell_type": "code",
   "execution_count": 205,
   "metadata": {},
   "outputs": [],
   "source": [
    "file_path = \"purchase_data.csv\"\n",
    "purchase_data = pd.read_csv(file_path)"
   ]
  },
  {
   "cell_type": "code",
   "execution_count": 127,
   "metadata": {},
   "outputs": [
    {
     "name": "stdout",
     "output_type": "stream",
     "text": [
      "       Purchase ID         Age     Item ID       Price\n",
      "count   780.000000  780.000000  780.000000  780.000000\n",
      "mean    389.500000   22.714103   92.114103    3.050987\n",
      "std     225.310896    6.659444   52.775943    1.169549\n",
      "min       0.000000    7.000000    0.000000    1.000000\n",
      "25%     194.750000   20.000000   48.000000    1.980000\n",
      "50%     389.500000   22.000000   93.000000    3.150000\n",
      "75%     584.250000   25.000000  139.000000    4.080000\n",
      "max     779.000000   45.000000  183.000000    4.990000\n",
      "\n",
      "Purchase ID    780\n",
      "SN             576\n",
      "Age             39\n",
      "Gender           3\n",
      "Item ID        183\n",
      "Item Name      179\n",
      "Price          145\n",
      "dtype: int64\n",
      "\n",
      "Purchase ID      int64\n",
      "SN              object\n",
      "Age              int64\n",
      "Gender          object\n",
      "Item ID          int64\n",
      "Item Name       object\n",
      "Price          float64\n",
      "dtype: object\n"
     ]
    }
   ],
   "source": [
    "print(purchase_data.describe())\n",
    "print()\n",
    "print(purchase_data.nunique())\n",
    "print()\n",
    "print(purchase_data.dtypes)"
   ]
  },
  {
   "cell_type": "code",
   "execution_count": 128,
   "metadata": {},
   "outputs": [],
   "source": [
    "total_players = purchase_data[\"SN\"].nunique()"
   ]
  },
  {
   "cell_type": "code",
   "execution_count": 129,
   "metadata": {},
   "outputs": [
    {
     "data": {
      "text/html": [
       "<div>\n",
       "<style scoped>\n",
       "    .dataframe tbody tr th:only-of-type {\n",
       "        vertical-align: middle;\n",
       "    }\n",
       "\n",
       "    .dataframe tbody tr th {\n",
       "        vertical-align: top;\n",
       "    }\n",
       "\n",
       "    .dataframe thead th {\n",
       "        text-align: right;\n",
       "    }\n",
       "</style>\n",
       "<table border=\"1\" class=\"dataframe\">\n",
       "  <thead>\n",
       "    <tr style=\"text-align: right;\">\n",
       "      <th></th>\n",
       "      <th>Total Players</th>\n",
       "    </tr>\n",
       "  </thead>\n",
       "  <tbody>\n",
       "    <tr>\n",
       "      <th></th>\n",
       "      <td>576</td>\n",
       "    </tr>\n",
       "  </tbody>\n",
       "</table>\n",
       "</div>"
      ],
      "text/plain": [
       "  Total Players\n",
       "            576"
      ]
     },
     "execution_count": 129,
     "metadata": {},
     "output_type": "execute_result"
    }
   ],
   "source": [
    "total_players_df = pd.DataFrame({\"Total Players\": total_players}, index=[\"\"])\n",
    "total_players_df"
   ]
  },
  {
   "cell_type": "code",
   "execution_count": 130,
   "metadata": {},
   "outputs": [],
   "source": [
    "unique_items = purchase_data[\"Item ID\"].nunique()"
   ]
  },
  {
   "cell_type": "code",
   "execution_count": 131,
   "metadata": {},
   "outputs": [],
   "source": [
    "average_item_price = round(purchase_data.Price.mean(), 2)"
   ]
  },
  {
   "cell_type": "code",
   "execution_count": 132,
   "metadata": {},
   "outputs": [],
   "source": [
    "total_purchases = purchase_data[\"Item ID\"].count()"
   ]
  },
  {
   "cell_type": "code",
   "execution_count": 133,
   "metadata": {},
   "outputs": [],
   "source": [
    "total_revenue = purchase_data.Price.sum()"
   ]
  },
  {
   "cell_type": "code",
   "execution_count": 198,
   "metadata": {},
   "outputs": [
    {
     "data": {
      "text/html": [
       "<div>\n",
       "<style scoped>\n",
       "    .dataframe tbody tr th:only-of-type {\n",
       "        vertical-align: middle;\n",
       "    }\n",
       "\n",
       "    .dataframe tbody tr th {\n",
       "        vertical-align: top;\n",
       "    }\n",
       "\n",
       "    .dataframe thead th {\n",
       "        text-align: right;\n",
       "    }\n",
       "</style>\n",
       "<table border=\"1\" class=\"dataframe\">\n",
       "  <thead>\n",
       "    <tr style=\"text-align: right;\">\n",
       "      <th></th>\n",
       "      <th>Unique Items</th>\n",
       "      <th>Avg Item Price</th>\n",
       "      <th>Total Purchases</th>\n",
       "      <th>Total Revenue</th>\n",
       "    </tr>\n",
       "  </thead>\n",
       "  <tbody>\n",
       "    <tr>\n",
       "      <th></th>\n",
       "      <td>183</td>\n",
       "      <td>$3.05</td>\n",
       "      <td>780</td>\n",
       "      <td>$2,379.77</td>\n",
       "    </tr>\n",
       "  </tbody>\n",
       "</table>\n",
       "</div>"
      ],
      "text/plain": [
       "  Unique Items Avg Item Price  Total Purchases Total Revenue\n",
       "           183          $3.05              780     $2,379.77"
      ]
     },
     "execution_count": 198,
     "metadata": {},
     "output_type": "execute_result"
    }
   ],
   "source": [
    "purchasing_analysis_dict = {\"Unique Items\": unique_items, \"Avg Item Price\": average_item_price, \"Total Purchases\": total_purchases, \"Total Revenue\": total_revenue}\n",
    "purchasing_analysis_df = pd.DataFrame(purchasing_analysis_dict, index=[\"\"])\n",
    "purchasing_analysis_df[\"Avg Item Price\"] = purchasing_analysis_df[\"Avg Item Price\"].map('${:,.2f}'.format)\n",
    "purchasing_analysis_df[\"Total Revenue\"] = purchasing_analysis_df[\"Total Revenue\"].map('${:,.2f}'.format)\n",
    "purchasing_analysis_df"
   ]
  },
  {
   "cell_type": "code",
   "execution_count": 135,
   "metadata": {},
   "outputs": [],
   "source": [
    "g_count_series = purchase_data.groupby(\"Gender\")[\"SN\"].nunique()"
   ]
  },
  {
   "cell_type": "code",
   "execution_count": 136,
   "metadata": {},
   "outputs": [],
   "source": [
    "count_of_male_players = g_count_series.iloc[1]"
   ]
  },
  {
   "cell_type": "code",
   "execution_count": 137,
   "metadata": {},
   "outputs": [],
   "source": [
    "count_of_female_players = g_count_series.iloc[0]"
   ]
  },
  {
   "cell_type": "code",
   "execution_count": 138,
   "metadata": {},
   "outputs": [],
   "source": [
    "count_of_non_disclosed_players = g_count_series.iloc[2]"
   ]
  },
  {
   "cell_type": "code",
   "execution_count": 139,
   "metadata": {},
   "outputs": [],
   "source": [
    "percentage_male_players = (count_of_male_players/total_players)*100"
   ]
  },
  {
   "cell_type": "code",
   "execution_count": 140,
   "metadata": {},
   "outputs": [],
   "source": [
    "percentage_female_players = (count_of_female_players/total_players)*100"
   ]
  },
  {
   "cell_type": "code",
   "execution_count": 141,
   "metadata": {},
   "outputs": [],
   "source": [
    "percentage_non_discolosed_players = (count_of_non_disclosed_players/total_players)*100"
   ]
  },
  {
   "cell_type": "code",
   "execution_count": 142,
   "metadata": {},
   "outputs": [
    {
     "data": {
      "text/html": [
       "<div>\n",
       "<style scoped>\n",
       "    .dataframe tbody tr th:only-of-type {\n",
       "        vertical-align: middle;\n",
       "    }\n",
       "\n",
       "    .dataframe tbody tr th {\n",
       "        vertical-align: top;\n",
       "    }\n",
       "\n",
       "    .dataframe thead th {\n",
       "        text-align: right;\n",
       "    }\n",
       "</style>\n",
       "<table border=\"1\" class=\"dataframe\">\n",
       "  <thead>\n",
       "    <tr style=\"text-align: right;\">\n",
       "      <th></th>\n",
       "      <th>Number of Players</th>\n",
       "      <th>Percentage of Players</th>\n",
       "    </tr>\n",
       "    <tr>\n",
       "      <th>Gender</th>\n",
       "      <th></th>\n",
       "      <th></th>\n",
       "    </tr>\n",
       "  </thead>\n",
       "  <tbody>\n",
       "    <tr>\n",
       "      <th>Male</th>\n",
       "      <td>484</td>\n",
       "      <td>84.03%</td>\n",
       "    </tr>\n",
       "    <tr>\n",
       "      <th>Female</th>\n",
       "      <td>81</td>\n",
       "      <td>14.06%</td>\n",
       "    </tr>\n",
       "    <tr>\n",
       "      <th>Non-Disclosed</th>\n",
       "      <td>11</td>\n",
       "      <td>1.91%</td>\n",
       "    </tr>\n",
       "  </tbody>\n",
       "</table>\n",
       "</div>"
      ],
      "text/plain": [
       "               Number of Players Percentage of Players\n",
       "Gender                                                \n",
       "Male                         484                84.03%\n",
       "Female                        81                14.06%\n",
       "Non-Disclosed                 11                 1.91%"
      ]
     },
     "execution_count": 142,
     "metadata": {},
     "output_type": "execute_result"
    }
   ],
   "source": [
    "g_demographics_dict = {\"Number of Players\": [count_of_male_players, count_of_female_players, count_of_non_disclosed_players],\n",
    "                      \"Percentage of Players\": [percentage_male_players, percentage_female_players, percentage_non_discolosed_players],\n",
    "                      \"Gender\": [\"Male\", \"Female\", \"Non-Disclosed\"]}\n",
    "g_demographics_df = pd.DataFrame(g_demographics_dict)\n",
    "g_demographics_df[\"Percentage of Players\"] = g_demographics_df[\"Percentage of Players\"].map('{:,.2f}%'.format)\n",
    "g_demographics_df.set_index(\"Gender\")"
   ]
  },
  {
   "cell_type": "code",
   "execution_count": 143,
   "metadata": {},
   "outputs": [],
   "source": [
    "gender_male_df = purchase_data.loc[(purchase_data[\"Gender\"] == \"Male\")]"
   ]
  },
  {
   "cell_type": "code",
   "execution_count": 144,
   "metadata": {},
   "outputs": [],
   "source": [
    "total_male_purchases = gender_male_df.Price.count()"
   ]
  },
  {
   "cell_type": "code",
   "execution_count": 145,
   "metadata": {},
   "outputs": [],
   "source": [
    "average_price_per_purchase_males = round(gender_male_df.Price.mean(), 2)"
   ]
  },
  {
   "cell_type": "code",
   "execution_count": 146,
   "metadata": {},
   "outputs": [],
   "source": [
    "total_purchases_males = gender_male_df.Price.sum()"
   ]
  },
  {
   "cell_type": "code",
   "execution_count": 147,
   "metadata": {},
   "outputs": [],
   "source": [
    "average_purchase_total_per_male = round((total_purchases_males / count_of_male_players), 2)"
   ]
  },
  {
   "cell_type": "code",
   "execution_count": 148,
   "metadata": {},
   "outputs": [],
   "source": [
    "gender_female_df = purchase_data.loc[(purchase_data.Gender == \"Female\")]"
   ]
  },
  {
   "cell_type": "code",
   "execution_count": 149,
   "metadata": {},
   "outputs": [],
   "source": [
    "total_female_purchases = gender_female_df.Price.count()"
   ]
  },
  {
   "cell_type": "code",
   "execution_count": 150,
   "metadata": {},
   "outputs": [],
   "source": [
    "average_price_per_purchase_females = round(gender_female_df.Price.mean(), 2)"
   ]
  },
  {
   "cell_type": "code",
   "execution_count": 151,
   "metadata": {},
   "outputs": [],
   "source": [
    "total_purchases_females = gender_female_df.Price.sum()"
   ]
  },
  {
   "cell_type": "code",
   "execution_count": 152,
   "metadata": {},
   "outputs": [],
   "source": [
    "average_purchase_total_per_female = round((total_purchases_females / count_of_female_players), 2)"
   ]
  },
  {
   "cell_type": "code",
   "execution_count": 153,
   "metadata": {},
   "outputs": [],
   "source": [
    "gender_non_disclosed_df = purchase_data.loc[(purchase_data.Gender == \"Other / Non-Disclosed\")]"
   ]
  },
  {
   "cell_type": "code",
   "execution_count": 154,
   "metadata": {},
   "outputs": [],
   "source": [
    "total_non_disclosed_purchases = gender_non_disclosed_df.Price.count()"
   ]
  },
  {
   "cell_type": "code",
   "execution_count": 155,
   "metadata": {},
   "outputs": [],
   "source": [
    "average_price_per_purchase_non_disclosed = round(gender_non_disclosed_df.Price.mean(), 2)"
   ]
  },
  {
   "cell_type": "code",
   "execution_count": 156,
   "metadata": {},
   "outputs": [],
   "source": [
    "total_purchases_non_disclosed = gender_non_disclosed_df.Price.sum()"
   ]
  },
  {
   "cell_type": "code",
   "execution_count": 157,
   "metadata": {},
   "outputs": [],
   "source": [
    "average_purchase_total_per_non_disclosed = round((total_purchases_non_disclosed / count_of_non_disclosed_players), 2)"
   ]
  },
  {
   "cell_type": "code",
   "execution_count": 199,
   "metadata": {},
   "outputs": [
    {
     "data": {
      "text/html": [
       "<div>\n",
       "<style scoped>\n",
       "    .dataframe tbody tr th:only-of-type {\n",
       "        vertical-align: middle;\n",
       "    }\n",
       "\n",
       "    .dataframe tbody tr th {\n",
       "        vertical-align: top;\n",
       "    }\n",
       "\n",
       "    .dataframe thead th {\n",
       "        text-align: right;\n",
       "    }\n",
       "</style>\n",
       "<table border=\"1\" class=\"dataframe\">\n",
       "  <thead>\n",
       "    <tr style=\"text-align: right;\">\n",
       "      <th></th>\n",
       "      <th>Purchase Count</th>\n",
       "      <th>Avg Price Per Purchase</th>\n",
       "      <th>Total Purchase Value</th>\n",
       "      <th>Avg Purchase Total</th>\n",
       "    </tr>\n",
       "    <tr>\n",
       "      <th>Gender</th>\n",
       "      <th></th>\n",
       "      <th></th>\n",
       "      <th></th>\n",
       "      <th></th>\n",
       "    </tr>\n",
       "  </thead>\n",
       "  <tbody>\n",
       "    <tr>\n",
       "      <th>Male</th>\n",
       "      <td>652</td>\n",
       "      <td>$3.02</td>\n",
       "      <td>$1,967.64</td>\n",
       "      <td>$4.07</td>\n",
       "    </tr>\n",
       "    <tr>\n",
       "      <th>Female</th>\n",
       "      <td>113</td>\n",
       "      <td>$3.20</td>\n",
       "      <td>$361.94</td>\n",
       "      <td>$4.47</td>\n",
       "    </tr>\n",
       "    <tr>\n",
       "      <th>Non-Disclosed</th>\n",
       "      <td>15</td>\n",
       "      <td>$3.35</td>\n",
       "      <td>$50.19</td>\n",
       "      <td>$4.56</td>\n",
       "    </tr>\n",
       "  </tbody>\n",
       "</table>\n",
       "</div>"
      ],
      "text/plain": [
       "               Purchase Count Avg Price Per Purchase Total Purchase Value  \\\n",
       "Gender                                                                      \n",
       "Male                      652                  $3.02            $1,967.64   \n",
       "Female                    113                  $3.20              $361.94   \n",
       "Non-Disclosed              15                  $3.35               $50.19   \n",
       "\n",
       "              Avg Purchase Total  \n",
       "Gender                            \n",
       "Male                       $4.07  \n",
       "Female                     $4.47  \n",
       "Non-Disclosed              $4.56  "
      ]
     },
     "execution_count": 199,
     "metadata": {},
     "output_type": "execute_result"
    }
   ],
   "source": [
    "purchasing_analysis_g_dict = {\"Gender\": [\"Male\", \"Female\", \"Non-Disclosed\"],\n",
    "                              \"Purchase Count\": [total_male_purchases, total_female_purchases, total_non_disclosed_purchases],\n",
    "                             \"Avg Price Per Purchase\": [average_price_per_purchase_males, average_price_per_purchase_females, average_price_per_purchase_non_disclosed],\n",
    "                             \"Total Purchase Value\": [total_purchases_males, total_purchases_females, total_purchases_non_disclosed],\n",
    "                             \"Avg Purchase Total\": [average_purchase_total_per_male, average_purchase_total_per_female, average_purchase_total_per_non_disclosed]}\n",
    "purchasing_analysis_g_df = pd.DataFrame(purchasing_analysis_g_dict)\n",
    "purchasing_analysis_g_df[\"Avg Price Per Purchase\"] = purchasing_analysis_g_df[\"Avg Price Per Purchase\"].map('${:,.2f}'.format)\n",
    "purchasing_analysis_g_df[\"Avg Purchase Total\"] = purchasing_analysis_g_df[\"Avg Purchase Total\"].map('${:,.2f}'.format)\n",
    "purchasing_analysis_g_df[\"Total Purchase Value\"] = purchasing_analysis_g_df[\"Total Purchase Value\"].map('${:,.2f}'.format)\n",
    "purchasing_analysis_g_df.set_index(\"Gender\")"
   ]
  },
  {
   "cell_type": "code",
   "execution_count": 159,
   "metadata": {},
   "outputs": [],
   "source": [
    "bins = [0,9,14,19,24,29,34,39,120]\n",
    "group_names = [\"Less than 10 Yrs\", \"10-14 Yrs\", \"15-19 yrs\", \"20-24 Yrs\", \"25-29 Yrs\", \"30-34 Yrs\", \"35-39 Yrs\", \"40 or More Yrs\"]\n",
    "purchase_data[\"Age Groups\"] = pd.cut(purchase_data[\"Age\"], bins, labels=group_names)"
   ]
  },
  {
   "cell_type": "code",
   "execution_count": 160,
   "metadata": {},
   "outputs": [],
   "source": [
    "purchase_count_by_age = purchase_data.groupby(\"Age Groups\")[\"Purchase ID\"].count()"
   ]
  },
  {
   "cell_type": "code",
   "execution_count": 161,
   "metadata": {},
   "outputs": [],
   "source": [
    "purchase_count_by_age_array = [x for x in purchase_count_by_age]"
   ]
  },
  {
   "cell_type": "code",
   "execution_count": 162,
   "metadata": {},
   "outputs": [],
   "source": [
    "average_purchase_price_by_age = purchase_data.groupby(\"Age Groups\")[\"Price\"].mean()"
   ]
  },
  {
   "cell_type": "code",
   "execution_count": 163,
   "metadata": {},
   "outputs": [],
   "source": [
    "average_purchase_price_by_age_array = [x for x in average_purchase_price_by_age]"
   ]
  },
  {
   "cell_type": "code",
   "execution_count": 164,
   "metadata": {},
   "outputs": [],
   "source": [
    "total_purchase_value_by_age = purchase_data.groupby(\"Age Groups\").Price.sum()"
   ]
  },
  {
   "cell_type": "code",
   "execution_count": 165,
   "metadata": {},
   "outputs": [],
   "source": [
    "total_purchase_value_by_age_array = [x for x in total_purchase_value_by_age]"
   ]
  },
  {
   "cell_type": "code",
   "execution_count": 166,
   "metadata": {},
   "outputs": [],
   "source": [
    "count_of_person_by_age = purchase_data.groupby(\"Age Groups\")[\"SN\"].nunique()"
   ]
  },
  {
   "cell_type": "code",
   "execution_count": 167,
   "metadata": {},
   "outputs": [],
   "source": [
    "count_of_person_by_age_array = [x for x in count_of_person_by_age]"
   ]
  },
  {
   "cell_type": "code",
   "execution_count": 168,
   "metadata": {},
   "outputs": [],
   "source": [
    "average_total_purchase_value_per_person_array = [(total_purchase_value_by_age_array[x] / count_of_person_by_age_array[x]) for x in range(len(count_of_person_by_age_array))]"
   ]
  },
  {
   "cell_type": "code",
   "execution_count": 200,
   "metadata": {},
   "outputs": [
    {
     "data": {
      "text/html": [
       "<div>\n",
       "<style scoped>\n",
       "    .dataframe tbody tr th:only-of-type {\n",
       "        vertical-align: middle;\n",
       "    }\n",
       "\n",
       "    .dataframe tbody tr th {\n",
       "        vertical-align: top;\n",
       "    }\n",
       "\n",
       "    .dataframe thead th {\n",
       "        text-align: right;\n",
       "    }\n",
       "</style>\n",
       "<table border=\"1\" class=\"dataframe\">\n",
       "  <thead>\n",
       "    <tr style=\"text-align: right;\">\n",
       "      <th></th>\n",
       "      <th>Purchase Count</th>\n",
       "      <th>Avg Price Per Purchase</th>\n",
       "      <th>Total Purchase Value</th>\n",
       "      <th>Avg Total Purchase Value Per Person</th>\n",
       "    </tr>\n",
       "    <tr>\n",
       "      <th>Age Group</th>\n",
       "      <th></th>\n",
       "      <th></th>\n",
       "      <th></th>\n",
       "      <th></th>\n",
       "    </tr>\n",
       "  </thead>\n",
       "  <tbody>\n",
       "    <tr>\n",
       "      <th>Less than 10 Yrs</th>\n",
       "      <td>23</td>\n",
       "      <td>$3.35</td>\n",
       "      <td>$77.13</td>\n",
       "      <td>$4.54</td>\n",
       "    </tr>\n",
       "    <tr>\n",
       "      <th>10-14 Yrs</th>\n",
       "      <td>28</td>\n",
       "      <td>$2.96</td>\n",
       "      <td>$82.78</td>\n",
       "      <td>$3.76</td>\n",
       "    </tr>\n",
       "    <tr>\n",
       "      <th>15-19 yrs</th>\n",
       "      <td>136</td>\n",
       "      <td>$3.04</td>\n",
       "      <td>$412.89</td>\n",
       "      <td>$3.86</td>\n",
       "    </tr>\n",
       "    <tr>\n",
       "      <th>20-24 Yrs</th>\n",
       "      <td>365</td>\n",
       "      <td>$3.05</td>\n",
       "      <td>$1,114.06</td>\n",
       "      <td>$4.32</td>\n",
       "    </tr>\n",
       "    <tr>\n",
       "      <th>25-29 Yrs</th>\n",
       "      <td>101</td>\n",
       "      <td>$2.90</td>\n",
       "      <td>$293.00</td>\n",
       "      <td>$3.81</td>\n",
       "    </tr>\n",
       "    <tr>\n",
       "      <th>30-34 Yrs</th>\n",
       "      <td>73</td>\n",
       "      <td>$2.93</td>\n",
       "      <td>$214.00</td>\n",
       "      <td>$4.12</td>\n",
       "    </tr>\n",
       "    <tr>\n",
       "      <th>35-39 Yrs</th>\n",
       "      <td>41</td>\n",
       "      <td>$3.60</td>\n",
       "      <td>$147.67</td>\n",
       "      <td>$4.76</td>\n",
       "    </tr>\n",
       "    <tr>\n",
       "      <th>40 or More Yrs</th>\n",
       "      <td>13</td>\n",
       "      <td>$2.94</td>\n",
       "      <td>$38.24</td>\n",
       "      <td>$3.19</td>\n",
       "    </tr>\n",
       "  </tbody>\n",
       "</table>\n",
       "</div>"
      ],
      "text/plain": [
       "                  Purchase Count Avg Price Per Purchase Total Purchase Value  \\\n",
       "Age Group                                                                      \n",
       "Less than 10 Yrs              23                  $3.35               $77.13   \n",
       "10-14 Yrs                     28                  $2.96               $82.78   \n",
       "15-19 yrs                    136                  $3.04              $412.89   \n",
       "20-24 Yrs                    365                  $3.05            $1,114.06   \n",
       "25-29 Yrs                    101                  $2.90              $293.00   \n",
       "30-34 Yrs                     73                  $2.93              $214.00   \n",
       "35-39 Yrs                     41                  $3.60              $147.67   \n",
       "40 or More Yrs                13                  $2.94               $38.24   \n",
       "\n",
       "                 Avg Total Purchase Value Per Person  \n",
       "Age Group                                             \n",
       "Less than 10 Yrs                               $4.54  \n",
       "10-14 Yrs                                      $3.76  \n",
       "15-19 yrs                                      $3.86  \n",
       "20-24 Yrs                                      $4.32  \n",
       "25-29 Yrs                                      $3.81  \n",
       "30-34 Yrs                                      $4.12  \n",
       "35-39 Yrs                                      $4.76  \n",
       "40 or More Yrs                                 $3.19  "
      ]
     },
     "execution_count": 200,
     "metadata": {},
     "output_type": "execute_result"
    }
   ],
   "source": [
    "purchasing_analysis_age_dict = {\"Age Group\": group_names, \"Purchase Count\": purchase_count_by_age_array,\n",
    "                                \"Avg Price Per Purchase\": average_purchase_price_by_age_array,\n",
    "                                \"Total Purchase Value\": total_purchase_value_by_age_array,\n",
    "                                \"Avg Total Purchase Value Per Person\": average_total_purchase_value_per_person_array}\n",
    "purchasing_analysis_age_df = pd.DataFrame(purchasing_analysis_age_dict)\n",
    "purchasing_analysis_age_df[\"Avg Price Per Purchase\"] = purchasing_analysis_age_df[\"Avg Price Per Purchase\"].map('${:,.2f}'.format)\n",
    "purchasing_analysis_age_df[\"Total Purchase Value\"] = purchasing_analysis_age_df[\"Total Purchase Value\"].map('${:,.2f}'.format)\n",
    "purchasing_analysis_age_df[\"Avg Total Purchase Value Per Person\"] = purchasing_analysis_age_df[\"Avg Total Purchase Value Per Person\"].map('${:,.2f}'.format)\n",
    "purchasing_analysis_age_df.set_index(\"Age Group\")"
   ]
  },
  {
   "cell_type": "code",
   "execution_count": 170,
   "metadata": {},
   "outputs": [],
   "source": [
    "top_spenders_df = pd.DataFrame(purchase_data.groupby(\"SN\", as_index=False)[\"Price\"].sum())\n",
    "top_spenders_sorted = top_spenders_df.sort_values(\"Price\", ascending=False)"
   ]
  },
  {
   "cell_type": "code",
   "execution_count": 171,
   "metadata": {},
   "outputs": [],
   "source": [
    "top_spender_names = []\n",
    "for x in range(5):\n",
    "    top_spender_names.append(top_spenders_sorted.iloc[x,0])"
   ]
  },
  {
   "cell_type": "code",
   "execution_count": 172,
   "metadata": {},
   "outputs": [],
   "source": [
    "top_spender_total_purchase_values = []\n",
    "for x in range(5):\n",
    "    top_spender_total_purchase_values.append(top_spenders_sorted.iloc[x,1])"
   ]
  },
  {
   "cell_type": "code",
   "execution_count": 173,
   "metadata": {},
   "outputs": [],
   "source": [
    "only_top_five_spenders_df = purchase_data.loc[(purchase_data.SN == top_spender_names[0]) | \n",
    "                                              (purchase_data.SN == top_spender_names[1]) | \n",
    "                                              (purchase_data.SN == top_spender_names[2]) | \n",
    "                                              (purchase_data.SN == top_spender_names[3]) | \n",
    "                                              (purchase_data.SN == top_spender_names[4])]"
   ]
  },
  {
   "cell_type": "code",
   "execution_count": 174,
   "metadata": {},
   "outputs": [],
   "source": [
    "only_top_five_purchase_count_df = pd.DataFrame(only_top_five_spenders_df.groupby(\"SN\", as_index=False)[\"Purchase ID\"].count())"
   ]
  },
  {
   "cell_type": "code",
   "execution_count": 175,
   "metadata": {},
   "outputs": [],
   "source": [
    "only_top_five_avg_purchase_df = pd.DataFrame(only_top_five_spenders_df.groupby(\"SN\", as_index=False)[\"Price\"].mean())\n",
    "only_top_five_avg_purchase_df_renamed = only_top_five_avg_purchase_df.rename(columns={\"Price\": \"Avg Price\"})"
   ]
  },
  {
   "cell_type": "code",
   "execution_count": 176,
   "metadata": {},
   "outputs": [],
   "source": [
    "only_top_five_total_purchase_df = pd.DataFrame(only_top_five_spenders_df.groupby(\"SN\", as_index=False)[\"Price\"].sum())\n",
    "only_top_five_total_purchase_df_renamed = only_top_five_total_purchase_df.rename(columns={\"Price\": \"Total Price\"})"
   ]
  },
  {
   "cell_type": "code",
   "execution_count": 177,
   "metadata": {},
   "outputs": [],
   "source": [
    "top_five_count_and_avg = pd.merge(only_top_five_purchase_count_df, only_top_five_avg_purchase_df_renamed, on=\"SN\")"
   ]
  },
  {
   "cell_type": "code",
   "execution_count": 201,
   "metadata": {},
   "outputs": [
    {
     "data": {
      "text/html": [
       "<div>\n",
       "<style scoped>\n",
       "    .dataframe tbody tr th:only-of-type {\n",
       "        vertical-align: middle;\n",
       "    }\n",
       "\n",
       "    .dataframe tbody tr th {\n",
       "        vertical-align: top;\n",
       "    }\n",
       "\n",
       "    .dataframe thead th {\n",
       "        text-align: right;\n",
       "    }\n",
       "</style>\n",
       "<table border=\"1\" class=\"dataframe\">\n",
       "  <thead>\n",
       "    <tr style=\"text-align: right;\">\n",
       "      <th></th>\n",
       "      <th>Purchase Count</th>\n",
       "      <th>Avg Purchase Total</th>\n",
       "      <th>Total Value</th>\n",
       "    </tr>\n",
       "    <tr>\n",
       "      <th>SN</th>\n",
       "      <th></th>\n",
       "      <th></th>\n",
       "      <th></th>\n",
       "    </tr>\n",
       "  </thead>\n",
       "  <tbody>\n",
       "    <tr>\n",
       "      <th>Lisosia93</th>\n",
       "      <td>5</td>\n",
       "      <td>$3.79</td>\n",
       "      <td>$18.96</td>\n",
       "    </tr>\n",
       "    <tr>\n",
       "      <th>Idastidru52</th>\n",
       "      <td>4</td>\n",
       "      <td>$3.86</td>\n",
       "      <td>$15.45</td>\n",
       "    </tr>\n",
       "    <tr>\n",
       "      <th>Chamjask73</th>\n",
       "      <td>3</td>\n",
       "      <td>$4.61</td>\n",
       "      <td>$13.83</td>\n",
       "    </tr>\n",
       "    <tr>\n",
       "      <th>Iral74</th>\n",
       "      <td>4</td>\n",
       "      <td>$3.40</td>\n",
       "      <td>$13.62</td>\n",
       "    </tr>\n",
       "    <tr>\n",
       "      <th>Iskadarya95</th>\n",
       "      <td>3</td>\n",
       "      <td>$4.37</td>\n",
       "      <td>$13.10</td>\n",
       "    </tr>\n",
       "  </tbody>\n",
       "</table>\n",
       "</div>"
      ],
      "text/plain": [
       "             Purchase Count Avg Purchase Total Total Value\n",
       "SN                                                        \n",
       "Lisosia93                 5              $3.79      $18.96\n",
       "Idastidru52               4              $3.86      $15.45\n",
       "Chamjask73                3              $4.61      $13.83\n",
       "Iral74                    4              $3.40      $13.62\n",
       "Iskadarya95               3              $4.37      $13.10"
      ]
     },
     "execution_count": 201,
     "metadata": {},
     "output_type": "execute_result"
    }
   ],
   "source": [
    "top_five_count_avg_total = pd.merge(top_five_count_and_avg, only_top_five_total_purchase_df_renamed, on=\"SN\")\n",
    "top_five_count_avg_total = top_five_count_avg_total.sort_values(\"Total Price\", ascending=False)\n",
    "top_five_count_avg_total_renamed = top_five_count_avg_total.rename(columns={\"Purchase ID\": \"Purchase Count\", \"Avg Price\": \"Avg Purchase Total\", \"Total Price\": \"Total Value\"})\n",
    "top_five_count_avg_total_renamed[\"Avg Purchase Total\"] = top_five_count_avg_total_renamed[\"Avg Purchase Total\"].map('${:,.2f}'.format)\n",
    "top_five_count_avg_total_renamed[\"Total Value\"] = top_five_count_avg_total_renamed[\"Total Value\"].map('${:,.2f}'.format)\n",
    "top_five_count_avg_total_renamed.set_index(\"SN\")"
   ]
  },
  {
   "cell_type": "code",
   "execution_count": 179,
   "metadata": {},
   "outputs": [],
   "source": [
    "top_items_df = pd.DataFrame(purchase_data.groupby(\"Item ID\", as_index=False)[\"Purchase ID\"].count())\n",
    "top_items_sorted = top_items_df.sort_values(\"Purchase ID\", ascending=False)"
   ]
  },
  {
   "cell_type": "code",
   "execution_count": 180,
   "metadata": {},
   "outputs": [],
   "source": [
    "top_item_IDs = []\n",
    "for x in range(5):\n",
    "    top_item_IDs.append(top_items_sorted.iloc[x,0])"
   ]
  },
  {
   "cell_type": "code",
   "execution_count": 181,
   "metadata": {},
   "outputs": [],
   "source": [
    "only_top_five_items_df = purchase_data.loc[(purchase_data[\"Item ID\"] == top_item_IDs[0]) | \n",
    "                                           (purchase_data[\"Item ID\"] == top_item_IDs[1]) | \n",
    "                                           (purchase_data[\"Item ID\"] == top_item_IDs[2]) | \n",
    "                                           (purchase_data[\"Item ID\"] == top_item_IDs[3]) | \n",
    "                                           (purchase_data[\"Item ID\"] == top_item_IDs[4])]"
   ]
  },
  {
   "cell_type": "code",
   "execution_count": 182,
   "metadata": {},
   "outputs": [],
   "source": [
    "only_top_five_item_name_df = pd.DataFrame(only_top_five_items_df.groupby(\"Item Name\", as_index=False)[\"Item ID\"].mean())"
   ]
  },
  {
   "cell_type": "code",
   "execution_count": 183,
   "metadata": {},
   "outputs": [],
   "source": [
    "only_top_five_item_price_df = pd.DataFrame(only_top_five_items_df.groupby(\"Item ID\", as_index=False)[\"Price\"].mean())"
   ]
  },
  {
   "cell_type": "code",
   "execution_count": 184,
   "metadata": {},
   "outputs": [],
   "source": [
    "only_top_five_item_total_value_df = pd.DataFrame(only_top_five_items_df.groupby(\"Item ID\", as_index=False)[\"Price\"].sum())\n",
    "only_top_five_item_total_value_df_renamed = only_top_five_item_total_value_df.rename(columns={\"Price\": \"Total Value\"})"
   ]
  },
  {
   "cell_type": "code",
   "execution_count": 185,
   "metadata": {},
   "outputs": [],
   "source": [
    "top_five_items_count_and_price = pd.merge(top_items_sorted, only_top_five_item_price_df, on=\"Item ID\")"
   ]
  },
  {
   "cell_type": "code",
   "execution_count": 186,
   "metadata": {},
   "outputs": [],
   "source": [
    "top_five_items_count_price_total_value = pd.merge(top_five_items_count_and_price, only_top_five_item_total_value_df_renamed, on=\"Item ID\")"
   ]
  },
  {
   "cell_type": "code",
   "execution_count": 202,
   "metadata": {},
   "outputs": [
    {
     "data": {
      "text/html": [
       "<div>\n",
       "<style scoped>\n",
       "    .dataframe tbody tr th:only-of-type {\n",
       "        vertical-align: middle;\n",
       "    }\n",
       "\n",
       "    .dataframe tbody tr th {\n",
       "        vertical-align: top;\n",
       "    }\n",
       "\n",
       "    .dataframe thead th {\n",
       "        text-align: right;\n",
       "    }\n",
       "</style>\n",
       "<table border=\"1\" class=\"dataframe\">\n",
       "  <thead>\n",
       "    <tr style=\"text-align: right;\">\n",
       "      <th></th>\n",
       "      <th>Item Name</th>\n",
       "      <th>Price</th>\n",
       "      <th>Purchase Count</th>\n",
       "      <th>Total Value</th>\n",
       "    </tr>\n",
       "    <tr>\n",
       "      <th>Item ID</th>\n",
       "      <th></th>\n",
       "      <th></th>\n",
       "      <th></th>\n",
       "      <th></th>\n",
       "    </tr>\n",
       "  </thead>\n",
       "  <tbody>\n",
       "    <tr>\n",
       "      <th>178</th>\n",
       "      <td>Oathbreaker, Last Hope of the Breaking Storm</td>\n",
       "      <td>$4.23</td>\n",
       "      <td>12</td>\n",
       "      <td>$50.76</td>\n",
       "    </tr>\n",
       "    <tr>\n",
       "      <th>145</th>\n",
       "      <td>Fiery Glass Crusader</td>\n",
       "      <td>$4.58</td>\n",
       "      <td>9</td>\n",
       "      <td>$41.22</td>\n",
       "    </tr>\n",
       "    <tr>\n",
       "      <th>108</th>\n",
       "      <td>Extraction, Quickblade Of Trembling Hands</td>\n",
       "      <td>$3.53</td>\n",
       "      <td>9</td>\n",
       "      <td>$31.77</td>\n",
       "    </tr>\n",
       "    <tr>\n",
       "      <th>82</th>\n",
       "      <td>Nirvana</td>\n",
       "      <td>$4.90</td>\n",
       "      <td>9</td>\n",
       "      <td>$44.10</td>\n",
       "    </tr>\n",
       "    <tr>\n",
       "      <th>19</th>\n",
       "      <td>Pursuit, Cudgel of Necromancy</td>\n",
       "      <td>$1.02</td>\n",
       "      <td>8</td>\n",
       "      <td>$8.16</td>\n",
       "    </tr>\n",
       "  </tbody>\n",
       "</table>\n",
       "</div>"
      ],
      "text/plain": [
       "                                            Item Name  Price  Purchase Count  \\\n",
       "Item ID                                                                        \n",
       "178      Oathbreaker, Last Hope of the Breaking Storm  $4.23              12   \n",
       "145                              Fiery Glass Crusader  $4.58               9   \n",
       "108         Extraction, Quickblade Of Trembling Hands  $3.53               9   \n",
       "82                                            Nirvana  $4.90               9   \n",
       "19                      Pursuit, Cudgel of Necromancy  $1.02               8   \n",
       "\n",
       "        Total Value  \n",
       "Item ID              \n",
       "178          $50.76  \n",
       "145          $41.22  \n",
       "108          $31.77  \n",
       "82           $44.10  \n",
       "19            $8.16  "
      ]
     },
     "execution_count": 202,
     "metadata": {},
     "output_type": "execute_result"
    }
   ],
   "source": [
    "total_top_five_items = pd.merge(top_five_items_count_price_total_value, only_top_five_item_name_df, on=\"Item ID\")\n",
    "total_top_five_items_renamed = total_top_five_items.rename(columns={\"Purchase ID\": \"Purchase Count\"})\n",
    "total_top_popular_items_final = total_top_five_items_renamed[[\"Item ID\", \"Item Name\", \"Price\", \"Purchase Count\", \"Total Value\"]]\n",
    "total_top_popular_items_final[\"Price\"] = total_top_popular_items_final[\"Price\"].map('${:,.2f}'.format)\n",
    "total_top_popular_items_final[\"Total Value\"] = total_top_popular_items_final[\"Total Value\"].map('${:,.2f}'.format)\n",
    "total_top_popular_items_final.set_index(\"Item ID\")"
   ]
  },
  {
   "cell_type": "code",
   "execution_count": 188,
   "metadata": {},
   "outputs": [],
   "source": [
    "profitable_items_df = pd.DataFrame(purchase_data.groupby(\"Item ID\", as_index=False)[\"Price\"].sum())\n",
    "profitable_items_sorted = profitable_items_df.sort_values(\"Price\", ascending=False)"
   ]
  },
  {
   "cell_type": "code",
   "execution_count": 189,
   "metadata": {},
   "outputs": [],
   "source": [
    "profitable_item_IDs = []\n",
    "for x in range(5):\n",
    "    profitable_item_IDs.append(profitable_items_sorted.iloc[x,0])"
   ]
  },
  {
   "cell_type": "code",
   "execution_count": 190,
   "metadata": {},
   "outputs": [],
   "source": [
    "only_profitable_items_df = purchase_data.loc[(purchase_data[\"Item ID\"] == profitable_item_IDs[0]) | \n",
    "                                           (purchase_data[\"Item ID\"] == profitable_item_IDs[1]) | \n",
    "                                           (purchase_data[\"Item ID\"] == profitable_item_IDs[2]) | \n",
    "                                           (purchase_data[\"Item ID\"] == profitable_item_IDs[3]) | \n",
    "                                           (purchase_data[\"Item ID\"] == profitable_item_IDs[4])]"
   ]
  },
  {
   "cell_type": "code",
   "execution_count": 191,
   "metadata": {},
   "outputs": [],
   "source": [
    "only_profitable_item_name_df = pd.DataFrame(only_profitable_items_df.groupby(\"Item Name\", as_index=False)[\"Item ID\"].mean())"
   ]
  },
  {
   "cell_type": "code",
   "execution_count": 192,
   "metadata": {},
   "outputs": [],
   "source": [
    "only_profitable_item_price_df = pd.DataFrame(only_profitable_items_df.groupby(\"Item ID\", as_index=False)[\"Price\"].mean())"
   ]
  },
  {
   "cell_type": "code",
   "execution_count": 193,
   "metadata": {},
   "outputs": [],
   "source": [
    "only_profitable_item_count_df = pd.DataFrame(only_profitable_items_df.groupby(\"Item ID\", as_index=False)[\"Purchase ID\"].count())"
   ]
  },
  {
   "cell_type": "code",
   "execution_count": 194,
   "metadata": {},
   "outputs": [],
   "source": [
    "top_profitable_items_ID_and_name = pd.merge(only_profitable_item_name_df, profitable_items_sorted, on=\"Item ID\")\n",
    "top_profitable_items_ID_and_name_renamed = top_profitable_items_ID_and_name.rename(columns={\"Price\": \"Total Value\"})"
   ]
  },
  {
   "cell_type": "code",
   "execution_count": 195,
   "metadata": {},
   "outputs": [],
   "source": [
    "top_profitable_items_ID_name_price = pd.merge(top_profitable_items_ID_and_name_renamed, only_profitable_item_price_df, on=\"Item ID\")"
   ]
  },
  {
   "cell_type": "code",
   "execution_count": 204,
   "metadata": {},
   "outputs": [
    {
     "data": {
      "text/html": [
       "<div>\n",
       "<style scoped>\n",
       "    .dataframe tbody tr th:only-of-type {\n",
       "        vertical-align: middle;\n",
       "    }\n",
       "\n",
       "    .dataframe tbody tr th {\n",
       "        vertical-align: top;\n",
       "    }\n",
       "\n",
       "    .dataframe thead th {\n",
       "        text-align: right;\n",
       "    }\n",
       "</style>\n",
       "<table border=\"1\" class=\"dataframe\">\n",
       "  <thead>\n",
       "    <tr style=\"text-align: right;\">\n",
       "      <th></th>\n",
       "      <th>Item Name</th>\n",
       "      <th>Price</th>\n",
       "      <th>Purchase Count</th>\n",
       "      <th>Total Value</th>\n",
       "    </tr>\n",
       "    <tr>\n",
       "      <th>Item ID</th>\n",
       "      <th></th>\n",
       "      <th></th>\n",
       "      <th></th>\n",
       "      <th></th>\n",
       "    </tr>\n",
       "  </thead>\n",
       "  <tbody>\n",
       "    <tr>\n",
       "      <th>178</th>\n",
       "      <td>Oathbreaker, Last Hope of the Breaking Storm</td>\n",
       "      <td>$4.23</td>\n",
       "      <td>12</td>\n",
       "      <td>$50.76</td>\n",
       "    </tr>\n",
       "    <tr>\n",
       "      <th>82</th>\n",
       "      <td>Nirvana</td>\n",
       "      <td>$4.90</td>\n",
       "      <td>9</td>\n",
       "      <td>$44.10</td>\n",
       "    </tr>\n",
       "    <tr>\n",
       "      <th>145</th>\n",
       "      <td>Fiery Glass Crusader</td>\n",
       "      <td>$4.58</td>\n",
       "      <td>9</td>\n",
       "      <td>$41.22</td>\n",
       "    </tr>\n",
       "    <tr>\n",
       "      <th>92</th>\n",
       "      <td>Final Critic</td>\n",
       "      <td>$4.88</td>\n",
       "      <td>8</td>\n",
       "      <td>$39.04</td>\n",
       "    </tr>\n",
       "    <tr>\n",
       "      <th>103</th>\n",
       "      <td>Singed Scalpel</td>\n",
       "      <td>$4.35</td>\n",
       "      <td>8</td>\n",
       "      <td>$34.80</td>\n",
       "    </tr>\n",
       "  </tbody>\n",
       "</table>\n",
       "</div>"
      ],
      "text/plain": [
       "                                            Item Name  Price  Purchase Count  \\\n",
       "Item ID                                                                        \n",
       "178      Oathbreaker, Last Hope of the Breaking Storm  $4.23              12   \n",
       "82                                            Nirvana  $4.90               9   \n",
       "145                              Fiery Glass Crusader  $4.58               9   \n",
       "92                                       Final Critic  $4.88               8   \n",
       "103                                    Singed Scalpel  $4.35               8   \n",
       "\n",
       "        Total Value  \n",
       "Item ID              \n",
       "178          $50.76  \n",
       "82           $44.10  \n",
       "145          $41.22  \n",
       "92           $39.04  \n",
       "103          $34.80  "
      ]
     },
     "execution_count": 204,
     "metadata": {},
     "output_type": "execute_result"
    }
   ],
   "source": [
    "total_profitbal_items = pd.merge(top_profitable_items_ID_name_price, only_profitable_item_count_df, on=\"Item ID\")\n",
    "total_profitbal_items_sorted = total_profitbal_items.sort_values(\"Total Value\", ascending=False)\n",
    "total_profitbal_items_columns_sorted = total_profitbal_items_sorted[[\"Item ID\", \"Item Name\", \"Price\", \"Purchase ID\", \"Total Value\"]]\n",
    "total_top_profitable_items_final = total_profitbal_items_columns_sorted.rename(columns={\"Purchase ID\": \"Purchase Count\"})\n",
    "total_top_profitable_items_final[\"Price\"] = total_top_profitable_items_final[\"Price\"].map('${:,.2f}'.format)\n",
    "total_top_profitable_items_final[\"Total Value\"] = total_top_profitable_items_final[\"Total Value\"].map('${:,.2f}'.format)\n",
    "total_top_profitable_items_final.set_index(\"Item ID\")"
   ]
  },
  {
   "cell_type": "code",
   "execution_count": null,
   "metadata": {},
   "outputs": [],
   "source": []
  }
 ],
 "metadata": {
  "kernelspec": {
   "display_name": "Python 3",
   "language": "python",
   "name": "python3"
  },
  "language_info": {
   "codemirror_mode": {
    "name": "ipython",
    "version": 3
   },
   "file_extension": ".py",
   "mimetype": "text/x-python",
   "name": "python",
   "nbconvert_exporter": "python",
   "pygments_lexer": "ipython3",
   "version": "3.7.0"
  }
 },
 "nbformat": 4,
 "nbformat_minor": 2
}
